{
 "cells": [
  {
   "cell_type": "code",
   "id": "initial_id",
   "metadata": {
    "collapsed": true
   },
   "source": "# !pip install Pandas pillow tensorflow keras pyspark pyarrow",
   "outputs": [],
   "execution_count": null
  },
  {
   "metadata": {},
   "cell_type": "markdown",
   "source": "## Import des librairies",
   "id": "2c89466ca2361f0d"
  },
  {
   "metadata": {
    "ExecuteTime": {
     "end_time": "2025-02-11T02:05:58.630927Z",
     "start_time": "2025-02-11T02:05:55.829614Z"
    }
   },
   "cell_type": "code",
   "source": [
    "import time\n",
    "import os\n",
    "import sys\n",
    "\n",
    "import pandas as pd\n",
    "import numpy as np\n",
    "from sklearn.decomposition import PCA\n",
    "import io\n",
    "from PIL import Image\n",
    "\n",
    "from pyspark.sql.types import StructType, StructField, FloatType, StringType, ArrayType\n",
    "import tensorflow as tf\n",
    "from tensorflow.keras.applications.mobilenet_v2 import MobileNetV2, preprocess_input\n",
    "# from tensorflow.keras.preprocessing.image import img_to_array\n",
    "from tensorflow.keras import Model\n",
    "from pyspark.sql import SparkSession\n"
   ],
   "id": "97a0ae92b62be86a",
   "outputs": [],
   "execution_count": 1
  },
  {
   "metadata": {},
   "cell_type": "markdown",
   "source": "## Data Path",
   "id": "27ddf61dc0a12247"
  },
  {
   "metadata": {
    "ExecuteTime": {
     "end_time": "2025-02-11T02:05:58.789930Z",
     "start_time": "2025-02-11T02:05:58.774942Z"
    }
   },
   "cell_type": "code",
   "source": [
    "PATH = os.getcwd()\n",
    "PATH_Data = os.path.join(PATH, 'data', 'Test1')\n",
    "PATH_Result = os.path.join(PATH, 'data', 'Results')\n",
    "print('PATH:        ' + \\\n",
    "      PATH + '\\nPATH_Data:   ' + \\\n",
    "      PATH_Data + '\\nPATH_Result: ' + PATH_Result)"
   ],
   "id": "7a695eeba6b5a476",
   "outputs": [
    {
     "name": "stdout",
     "output_type": "stream",
     "text": [
      "PATH:        C:\\Users\\chauv\\Projets\\OC\\P8-BigData\\P8_Notebook\n",
      "PATH_Data:   C:\\Users\\chauv\\Projets\\OC\\P8-BigData\\P8_Notebook\\data\\Test1\n",
      "PATH_Result: C:\\Users\\chauv\\Projets\\OC\\P8-BigData\\P8_Notebook\\data\\Results\n"
     ]
    }
   ],
   "execution_count": 2
  },
  {
   "metadata": {},
   "cell_type": "markdown",
   "source": "## Variables d'environnement",
   "id": "999954fb22d5e152"
  },
  {
   "metadata": {
    "ExecuteTime": {
     "end_time": "2025-02-11T02:06:03.054402Z",
     "start_time": "2025-02-11T02:06:03.046395Z"
    }
   },
   "cell_type": "code",
   "source": [
    "JAVA_HOME = \"C:\\\\Program Files\\\\Java\\\\jdk-17\\\\\"\n",
    "os.environ[\"JAVA_HOME\"] = JAVA_HOME\n",
    "\n",
    "PYSPARK_PYTHON = sys.executable\n",
    "os.environ[\"PYSPARK_PYTHON\"] = PYSPARK_PYTHON\n",
    "\n",
    "PYSPARK_DRIVER_PYTHON = sys.executable\n",
    "os.environ[\"PYSPARK_DRIVER_PYTHON\"] = PYSPARK_DRIVER_PYTHON"
   ],
   "id": "b7320d7d86cf66a1",
   "outputs": [],
   "execution_count": 3
  },
  {
   "metadata": {},
   "cell_type": "markdown",
   "source": "## Spark Session",
   "id": "e6bd47dd9e926006"
  },
  {
   "metadata": {
    "ExecuteTime": {
     "end_time": "2025-02-11T02:06:07.619350Z",
     "start_time": "2025-02-11T02:06:04.881336Z"
    }
   },
   "cell_type": "code",
   "source": [
    "spark = (SparkSession\n",
    "         .builder\n",
    "         .appName('P8_Fruits!')\n",
    "         .master('local')\n",
    "         .config(\"spark.sql.parquet.writeLegacyFormat\", 'true')\n",
    "         .getOrCreate()\n",
    "         )"
   ],
   "id": "eb79f9e06952e300",
   "outputs": [],
   "execution_count": 4
  },
  {
   "metadata": {
    "ExecuteTime": {
     "end_time": "2025-02-11T02:06:07.650341Z",
     "start_time": "2025-02-11T02:06:07.629336Z"
    }
   },
   "cell_type": "code",
   "source": [
    "sc = spark.sparkContext\n",
    "sc"
   ],
   "id": "c3c21f4d1dd376c3",
   "outputs": [
    {
     "data": {
      "text/plain": [
       "<SparkContext master=local appName=P8_Fruits!>"
      ],
      "text/html": [
       "\n",
       "        <div>\n",
       "            <p><b>SparkContext</b></p>\n",
       "\n",
       "            <p><a href=\"http://host.docker.internal:4040\">Spark UI</a></p>\n",
       "\n",
       "            <dl>\n",
       "              <dt>Version</dt>\n",
       "                <dd><code>v3.5.4</code></dd>\n",
       "              <dt>Master</dt>\n",
       "                <dd><code>local</code></dd>\n",
       "              <dt>AppName</dt>\n",
       "                <dd><code>P8_Fruits!</code></dd>\n",
       "            </dl>\n",
       "        </div>\n",
       "        "
      ]
     },
     "execution_count": 5,
     "metadata": {},
     "output_type": "execute_result"
    }
   ],
   "execution_count": 5
  },
  {
   "metadata": {},
   "cell_type": "markdown",
   "source": "## Traitement des données",
   "id": "56107053fb413941"
  },
  {
   "metadata": {},
   "cell_type": "markdown",
   "source": "### Chargement du modèle",
   "id": "851c372cb39d7d20"
  },
  {
   "metadata": {
    "ExecuteTime": {
     "end_time": "2025-02-11T02:06:13.505444Z",
     "start_time": "2025-02-11T02:06:12.458271Z"
    }
   },
   "cell_type": "code",
   "source": [
    "model = MobileNetV2(weights='imagenet',\n",
    "                    include_top=True,\n",
    "                    input_shape=(224, 224, 3))\n",
    "new_model = Model(inputs=model.input,\n",
    "                  outputs=model.layers[-2].output)\n",
    "new_model.summary()"
   ],
   "id": "e3bff22d5e42157",
   "outputs": [
    {
     "name": "stdout",
     "output_type": "stream",
     "text": [
      "Model: \"model\"\n",
      "__________________________________________________________________________________________________\n",
      " Layer (type)                   Output Shape         Param #     Connected to                     \n",
      "==================================================================================================\n",
      " input_1 (InputLayer)           [(None, 224, 224, 3  0           []                               \n",
      "                                )]                                                                \n",
      "                                                                                                  \n",
      " Conv1 (Conv2D)                 (None, 112, 112, 32  864         ['input_1[0][0]']                \n",
      "                                )                                                                 \n",
      "                                                                                                  \n",
      " bn_Conv1 (BatchNormalization)  (None, 112, 112, 32  128         ['Conv1[0][0]']                  \n",
      "                                )                                                                 \n",
      "                                                                                                  \n",
      " Conv1_relu (ReLU)              (None, 112, 112, 32  0           ['bn_Conv1[0][0]']               \n",
      "                                )                                                                 \n",
      "                                                                                                  \n",
      " expanded_conv_depthwise (Depth  (None, 112, 112, 32  288        ['Conv1_relu[0][0]']             \n",
      " wiseConv2D)                    )                                                                 \n",
      "                                                                                                  \n",
      " expanded_conv_depthwise_BN (Ba  (None, 112, 112, 32  128        ['expanded_conv_depthwise[0][0]']\n",
      " tchNormalization)              )                                                                 \n",
      "                                                                                                  \n",
      " expanded_conv_depthwise_relu (  (None, 112, 112, 32  0          ['expanded_conv_depthwise_BN[0][0\n",
      " ReLU)                          )                                ]']                              \n",
      "                                                                                                  \n",
      " expanded_conv_project (Conv2D)  (None, 112, 112, 16  512        ['expanded_conv_depthwise_relu[0]\n",
      "                                )                                [0]']                            \n",
      "                                                                                                  \n",
      " expanded_conv_project_BN (Batc  (None, 112, 112, 16  64         ['expanded_conv_project[0][0]']  \n",
      " hNormalization)                )                                                                 \n",
      "                                                                                                  \n",
      " block_1_expand (Conv2D)        (None, 112, 112, 96  1536        ['expanded_conv_project_BN[0][0]'\n",
      "                                )                                ]                                \n",
      "                                                                                                  \n",
      " block_1_expand_BN (BatchNormal  (None, 112, 112, 96  384        ['block_1_expand[0][0]']         \n",
      " ization)                       )                                                                 \n",
      "                                                                                                  \n",
      " block_1_expand_relu (ReLU)     (None, 112, 112, 96  0           ['block_1_expand_BN[0][0]']      \n",
      "                                )                                                                 \n",
      "                                                                                                  \n",
      " block_1_pad (ZeroPadding2D)    (None, 113, 113, 96  0           ['block_1_expand_relu[0][0]']    \n",
      "                                )                                                                 \n",
      "                                                                                                  \n",
      " block_1_depthwise (DepthwiseCo  (None, 56, 56, 96)  864         ['block_1_pad[0][0]']            \n",
      " nv2D)                                                                                            \n",
      "                                                                                                  \n",
      " block_1_depthwise_BN (BatchNor  (None, 56, 56, 96)  384         ['block_1_depthwise[0][0]']      \n",
      " malization)                                                                                      \n",
      "                                                                                                  \n",
      " block_1_depthwise_relu (ReLU)  (None, 56, 56, 96)   0           ['block_1_depthwise_BN[0][0]']   \n",
      "                                                                                                  \n",
      " block_1_project (Conv2D)       (None, 56, 56, 24)   2304        ['block_1_depthwise_relu[0][0]'] \n",
      "                                                                                                  \n",
      " block_1_project_BN (BatchNorma  (None, 56, 56, 24)  96          ['block_1_project[0][0]']        \n",
      " lization)                                                                                        \n",
      "                                                                                                  \n",
      " block_2_expand (Conv2D)        (None, 56, 56, 144)  3456        ['block_1_project_BN[0][0]']     \n",
      "                                                                                                  \n",
      " block_2_expand_BN (BatchNormal  (None, 56, 56, 144)  576        ['block_2_expand[0][0]']         \n",
      " ization)                                                                                         \n",
      "                                                                                                  \n",
      " block_2_expand_relu (ReLU)     (None, 56, 56, 144)  0           ['block_2_expand_BN[0][0]']      \n",
      "                                                                                                  \n",
      " block_2_depthwise (DepthwiseCo  (None, 56, 56, 144)  1296       ['block_2_expand_relu[0][0]']    \n",
      " nv2D)                                                                                            \n",
      "                                                                                                  \n",
      " block_2_depthwise_BN (BatchNor  (None, 56, 56, 144)  576        ['block_2_depthwise[0][0]']      \n",
      " malization)                                                                                      \n",
      "                                                                                                  \n",
      " block_2_depthwise_relu (ReLU)  (None, 56, 56, 144)  0           ['block_2_depthwise_BN[0][0]']   \n",
      "                                                                                                  \n",
      " block_2_project (Conv2D)       (None, 56, 56, 24)   3456        ['block_2_depthwise_relu[0][0]'] \n",
      "                                                                                                  \n",
      " block_2_project_BN (BatchNorma  (None, 56, 56, 24)  96          ['block_2_project[0][0]']        \n",
      " lization)                                                                                        \n",
      "                                                                                                  \n",
      " block_2_add (Add)              (None, 56, 56, 24)   0           ['block_1_project_BN[0][0]',     \n",
      "                                                                  'block_2_project_BN[0][0]']     \n",
      "                                                                                                  \n",
      " block_3_expand (Conv2D)        (None, 56, 56, 144)  3456        ['block_2_add[0][0]']            \n",
      "                                                                                                  \n",
      " block_3_expand_BN (BatchNormal  (None, 56, 56, 144)  576        ['block_3_expand[0][0]']         \n",
      " ization)                                                                                         \n",
      "                                                                                                  \n",
      " block_3_expand_relu (ReLU)     (None, 56, 56, 144)  0           ['block_3_expand_BN[0][0]']      \n",
      "                                                                                                  \n",
      " block_3_pad (ZeroPadding2D)    (None, 57, 57, 144)  0           ['block_3_expand_relu[0][0]']    \n",
      "                                                                                                  \n",
      " block_3_depthwise (DepthwiseCo  (None, 28, 28, 144)  1296       ['block_3_pad[0][0]']            \n",
      " nv2D)                                                                                            \n",
      "                                                                                                  \n",
      " block_3_depthwise_BN (BatchNor  (None, 28, 28, 144)  576        ['block_3_depthwise[0][0]']      \n",
      " malization)                                                                                      \n",
      "                                                                                                  \n",
      " block_3_depthwise_relu (ReLU)  (None, 28, 28, 144)  0           ['block_3_depthwise_BN[0][0]']   \n",
      "                                                                                                  \n",
      " block_3_project (Conv2D)       (None, 28, 28, 32)   4608        ['block_3_depthwise_relu[0][0]'] \n",
      "                                                                                                  \n",
      " block_3_project_BN (BatchNorma  (None, 28, 28, 32)  128         ['block_3_project[0][0]']        \n",
      " lization)                                                                                        \n",
      "                                                                                                  \n",
      " block_4_expand (Conv2D)        (None, 28, 28, 192)  6144        ['block_3_project_BN[0][0]']     \n",
      "                                                                                                  \n",
      " block_4_expand_BN (BatchNormal  (None, 28, 28, 192)  768        ['block_4_expand[0][0]']         \n",
      " ization)                                                                                         \n",
      "                                                                                                  \n",
      " block_4_expand_relu (ReLU)     (None, 28, 28, 192)  0           ['block_4_expand_BN[0][0]']      \n",
      "                                                                                                  \n",
      " block_4_depthwise (DepthwiseCo  (None, 28, 28, 192)  1728       ['block_4_expand_relu[0][0]']    \n",
      " nv2D)                                                                                            \n",
      "                                                                                                  \n",
      " block_4_depthwise_BN (BatchNor  (None, 28, 28, 192)  768        ['block_4_depthwise[0][0]']      \n",
      " malization)                                                                                      \n",
      "                                                                                                  \n",
      " block_4_depthwise_relu (ReLU)  (None, 28, 28, 192)  0           ['block_4_depthwise_BN[0][0]']   \n",
      "                                                                                                  \n",
      " block_4_project (Conv2D)       (None, 28, 28, 32)   6144        ['block_4_depthwise_relu[0][0]'] \n",
      "                                                                                                  \n",
      " block_4_project_BN (BatchNorma  (None, 28, 28, 32)  128         ['block_4_project[0][0]']        \n",
      " lization)                                                                                        \n",
      "                                                                                                  \n",
      " block_4_add (Add)              (None, 28, 28, 32)   0           ['block_3_project_BN[0][0]',     \n",
      "                                                                  'block_4_project_BN[0][0]']     \n",
      "                                                                                                  \n",
      " block_5_expand (Conv2D)        (None, 28, 28, 192)  6144        ['block_4_add[0][0]']            \n",
      "                                                                                                  \n",
      " block_5_expand_BN (BatchNormal  (None, 28, 28, 192)  768        ['block_5_expand[0][0]']         \n",
      " ization)                                                                                         \n",
      "                                                                                                  \n",
      " block_5_expand_relu (ReLU)     (None, 28, 28, 192)  0           ['block_5_expand_BN[0][0]']      \n",
      "                                                                                                  \n",
      " block_5_depthwise (DepthwiseCo  (None, 28, 28, 192)  1728       ['block_5_expand_relu[0][0]']    \n",
      " nv2D)                                                                                            \n",
      "                                                                                                  \n",
      " block_5_depthwise_BN (BatchNor  (None, 28, 28, 192)  768        ['block_5_depthwise[0][0]']      \n",
      " malization)                                                                                      \n",
      "                                                                                                  \n",
      " block_5_depthwise_relu (ReLU)  (None, 28, 28, 192)  0           ['block_5_depthwise_BN[0][0]']   \n",
      "                                                                                                  \n",
      " block_5_project (Conv2D)       (None, 28, 28, 32)   6144        ['block_5_depthwise_relu[0][0]'] \n",
      "                                                                                                  \n",
      " block_5_project_BN (BatchNorma  (None, 28, 28, 32)  128         ['block_5_project[0][0]']        \n",
      " lization)                                                                                        \n",
      "                                                                                                  \n",
      " block_5_add (Add)              (None, 28, 28, 32)   0           ['block_4_add[0][0]',            \n",
      "                                                                  'block_5_project_BN[0][0]']     \n",
      "                                                                                                  \n",
      " block_6_expand (Conv2D)        (None, 28, 28, 192)  6144        ['block_5_add[0][0]']            \n",
      "                                                                                                  \n",
      " block_6_expand_BN (BatchNormal  (None, 28, 28, 192)  768        ['block_6_expand[0][0]']         \n",
      " ization)                                                                                         \n",
      "                                                                                                  \n",
      " block_6_expand_relu (ReLU)     (None, 28, 28, 192)  0           ['block_6_expand_BN[0][0]']      \n",
      "                                                                                                  \n",
      " block_6_pad (ZeroPadding2D)    (None, 29, 29, 192)  0           ['block_6_expand_relu[0][0]']    \n",
      "                                                                                                  \n",
      " block_6_depthwise (DepthwiseCo  (None, 14, 14, 192)  1728       ['block_6_pad[0][0]']            \n",
      " nv2D)                                                                                            \n",
      "                                                                                                  \n",
      " block_6_depthwise_BN (BatchNor  (None, 14, 14, 192)  768        ['block_6_depthwise[0][0]']      \n",
      " malization)                                                                                      \n",
      "                                                                                                  \n",
      " block_6_depthwise_relu (ReLU)  (None, 14, 14, 192)  0           ['block_6_depthwise_BN[0][0]']   \n",
      "                                                                                                  \n",
      " block_6_project (Conv2D)       (None, 14, 14, 64)   12288       ['block_6_depthwise_relu[0][0]'] \n",
      "                                                                                                  \n",
      " block_6_project_BN (BatchNorma  (None, 14, 14, 64)  256         ['block_6_project[0][0]']        \n",
      " lization)                                                                                        \n",
      "                                                                                                  \n",
      " block_7_expand (Conv2D)        (None, 14, 14, 384)  24576       ['block_6_project_BN[0][0]']     \n",
      "                                                                                                  \n",
      " block_7_expand_BN (BatchNormal  (None, 14, 14, 384)  1536       ['block_7_expand[0][0]']         \n",
      " ization)                                                                                         \n",
      "                                                                                                  \n",
      " block_7_expand_relu (ReLU)     (None, 14, 14, 384)  0           ['block_7_expand_BN[0][0]']      \n",
      "                                                                                                  \n",
      " block_7_depthwise (DepthwiseCo  (None, 14, 14, 384)  3456       ['block_7_expand_relu[0][0]']    \n",
      " nv2D)                                                                                            \n",
      "                                                                                                  \n",
      " block_7_depthwise_BN (BatchNor  (None, 14, 14, 384)  1536       ['block_7_depthwise[0][0]']      \n",
      " malization)                                                                                      \n",
      "                                                                                                  \n",
      " block_7_depthwise_relu (ReLU)  (None, 14, 14, 384)  0           ['block_7_depthwise_BN[0][0]']   \n",
      "                                                                                                  \n",
      " block_7_project (Conv2D)       (None, 14, 14, 64)   24576       ['block_7_depthwise_relu[0][0]'] \n",
      "                                                                                                  \n",
      " block_7_project_BN (BatchNorma  (None, 14, 14, 64)  256         ['block_7_project[0][0]']        \n",
      " lization)                                                                                        \n",
      "                                                                                                  \n",
      " block_7_add (Add)              (None, 14, 14, 64)   0           ['block_6_project_BN[0][0]',     \n",
      "                                                                  'block_7_project_BN[0][0]']     \n",
      "                                                                                                  \n",
      " block_8_expand (Conv2D)        (None, 14, 14, 384)  24576       ['block_7_add[0][0]']            \n",
      "                                                                                                  \n",
      " block_8_expand_BN (BatchNormal  (None, 14, 14, 384)  1536       ['block_8_expand[0][0]']         \n",
      " ization)                                                                                         \n",
      "                                                                                                  \n",
      " block_8_expand_relu (ReLU)     (None, 14, 14, 384)  0           ['block_8_expand_BN[0][0]']      \n",
      "                                                                                                  \n",
      " block_8_depthwise (DepthwiseCo  (None, 14, 14, 384)  3456       ['block_8_expand_relu[0][0]']    \n",
      " nv2D)                                                                                            \n",
      "                                                                                                  \n",
      " block_8_depthwise_BN (BatchNor  (None, 14, 14, 384)  1536       ['block_8_depthwise[0][0]']      \n",
      " malization)                                                                                      \n",
      "                                                                                                  \n",
      " block_8_depthwise_relu (ReLU)  (None, 14, 14, 384)  0           ['block_8_depthwise_BN[0][0]']   \n",
      "                                                                                                  \n",
      " block_8_project (Conv2D)       (None, 14, 14, 64)   24576       ['block_8_depthwise_relu[0][0]'] \n",
      "                                                                                                  \n",
      " block_8_project_BN (BatchNorma  (None, 14, 14, 64)  256         ['block_8_project[0][0]']        \n",
      " lization)                                                                                        \n",
      "                                                                                                  \n",
      " block_8_add (Add)              (None, 14, 14, 64)   0           ['block_7_add[0][0]',            \n",
      "                                                                  'block_8_project_BN[0][0]']     \n",
      "                                                                                                  \n",
      " block_9_expand (Conv2D)        (None, 14, 14, 384)  24576       ['block_8_add[0][0]']            \n",
      "                                                                                                  \n",
      " block_9_expand_BN (BatchNormal  (None, 14, 14, 384)  1536       ['block_9_expand[0][0]']         \n",
      " ization)                                                                                         \n",
      "                                                                                                  \n",
      " block_9_expand_relu (ReLU)     (None, 14, 14, 384)  0           ['block_9_expand_BN[0][0]']      \n",
      "                                                                                                  \n",
      " block_9_depthwise (DepthwiseCo  (None, 14, 14, 384)  3456       ['block_9_expand_relu[0][0]']    \n",
      " nv2D)                                                                                            \n",
      "                                                                                                  \n",
      " block_9_depthwise_BN (BatchNor  (None, 14, 14, 384)  1536       ['block_9_depthwise[0][0]']      \n",
      " malization)                                                                                      \n",
      "                                                                                                  \n",
      " block_9_depthwise_relu (ReLU)  (None, 14, 14, 384)  0           ['block_9_depthwise_BN[0][0]']   \n",
      "                                                                                                  \n",
      " block_9_project (Conv2D)       (None, 14, 14, 64)   24576       ['block_9_depthwise_relu[0][0]'] \n",
      "                                                                                                  \n",
      " block_9_project_BN (BatchNorma  (None, 14, 14, 64)  256         ['block_9_project[0][0]']        \n",
      " lization)                                                                                        \n",
      "                                                                                                  \n",
      " block_9_add (Add)              (None, 14, 14, 64)   0           ['block_8_add[0][0]',            \n",
      "                                                                  'block_9_project_BN[0][0]']     \n",
      "                                                                                                  \n",
      " block_10_expand (Conv2D)       (None, 14, 14, 384)  24576       ['block_9_add[0][0]']            \n",
      "                                                                                                  \n",
      " block_10_expand_BN (BatchNorma  (None, 14, 14, 384)  1536       ['block_10_expand[0][0]']        \n",
      " lization)                                                                                        \n",
      "                                                                                                  \n",
      " block_10_expand_relu (ReLU)    (None, 14, 14, 384)  0           ['block_10_expand_BN[0][0]']     \n",
      "                                                                                                  \n",
      " block_10_depthwise (DepthwiseC  (None, 14, 14, 384)  3456       ['block_10_expand_relu[0][0]']   \n",
      " onv2D)                                                                                           \n",
      "                                                                                                  \n",
      " block_10_depthwise_BN (BatchNo  (None, 14, 14, 384)  1536       ['block_10_depthwise[0][0]']     \n",
      " rmalization)                                                                                     \n",
      "                                                                                                  \n",
      " block_10_depthwise_relu (ReLU)  (None, 14, 14, 384)  0          ['block_10_depthwise_BN[0][0]']  \n",
      "                                                                                                  \n",
      " block_10_project (Conv2D)      (None, 14, 14, 96)   36864       ['block_10_depthwise_relu[0][0]']\n",
      "                                                                                                  \n",
      " block_10_project_BN (BatchNorm  (None, 14, 14, 96)  384         ['block_10_project[0][0]']       \n",
      " alization)                                                                                       \n",
      "                                                                                                  \n",
      " block_11_expand (Conv2D)       (None, 14, 14, 576)  55296       ['block_10_project_BN[0][0]']    \n",
      "                                                                                                  \n",
      " block_11_expand_BN (BatchNorma  (None, 14, 14, 576)  2304       ['block_11_expand[0][0]']        \n",
      " lization)                                                                                        \n",
      "                                                                                                  \n",
      " block_11_expand_relu (ReLU)    (None, 14, 14, 576)  0           ['block_11_expand_BN[0][0]']     \n",
      "                                                                                                  \n",
      " block_11_depthwise (DepthwiseC  (None, 14, 14, 576)  5184       ['block_11_expand_relu[0][0]']   \n",
      " onv2D)                                                                                           \n",
      "                                                                                                  \n",
      " block_11_depthwise_BN (BatchNo  (None, 14, 14, 576)  2304       ['block_11_depthwise[0][0]']     \n",
      " rmalization)                                                                                     \n",
      "                                                                                                  \n",
      " block_11_depthwise_relu (ReLU)  (None, 14, 14, 576)  0          ['block_11_depthwise_BN[0][0]']  \n",
      "                                                                                                  \n",
      " block_11_project (Conv2D)      (None, 14, 14, 96)   55296       ['block_11_depthwise_relu[0][0]']\n",
      "                                                                                                  \n",
      " block_11_project_BN (BatchNorm  (None, 14, 14, 96)  384         ['block_11_project[0][0]']       \n",
      " alization)                                                                                       \n",
      "                                                                                                  \n",
      " block_11_add (Add)             (None, 14, 14, 96)   0           ['block_10_project_BN[0][0]',    \n",
      "                                                                  'block_11_project_BN[0][0]']    \n",
      "                                                                                                  \n",
      " block_12_expand (Conv2D)       (None, 14, 14, 576)  55296       ['block_11_add[0][0]']           \n",
      "                                                                                                  \n",
      " block_12_expand_BN (BatchNorma  (None, 14, 14, 576)  2304       ['block_12_expand[0][0]']        \n",
      " lization)                                                                                        \n",
      "                                                                                                  \n",
      " block_12_expand_relu (ReLU)    (None, 14, 14, 576)  0           ['block_12_expand_BN[0][0]']     \n",
      "                                                                                                  \n",
      " block_12_depthwise (DepthwiseC  (None, 14, 14, 576)  5184       ['block_12_expand_relu[0][0]']   \n",
      " onv2D)                                                                                           \n",
      "                                                                                                  \n",
      " block_12_depthwise_BN (BatchNo  (None, 14, 14, 576)  2304       ['block_12_depthwise[0][0]']     \n",
      " rmalization)                                                                                     \n",
      "                                                                                                  \n",
      " block_12_depthwise_relu (ReLU)  (None, 14, 14, 576)  0          ['block_12_depthwise_BN[0][0]']  \n",
      "                                                                                                  \n",
      " block_12_project (Conv2D)      (None, 14, 14, 96)   55296       ['block_12_depthwise_relu[0][0]']\n",
      "                                                                                                  \n",
      " block_12_project_BN (BatchNorm  (None, 14, 14, 96)  384         ['block_12_project[0][0]']       \n",
      " alization)                                                                                       \n",
      "                                                                                                  \n",
      " block_12_add (Add)             (None, 14, 14, 96)   0           ['block_11_add[0][0]',           \n",
      "                                                                  'block_12_project_BN[0][0]']    \n",
      "                                                                                                  \n",
      " block_13_expand (Conv2D)       (None, 14, 14, 576)  55296       ['block_12_add[0][0]']           \n",
      "                                                                                                  \n",
      " block_13_expand_BN (BatchNorma  (None, 14, 14, 576)  2304       ['block_13_expand[0][0]']        \n",
      " lization)                                                                                        \n",
      "                                                                                                  \n",
      " block_13_expand_relu (ReLU)    (None, 14, 14, 576)  0           ['block_13_expand_BN[0][0]']     \n",
      "                                                                                                  \n",
      " block_13_pad (ZeroPadding2D)   (None, 15, 15, 576)  0           ['block_13_expand_relu[0][0]']   \n",
      "                                                                                                  \n",
      " block_13_depthwise (DepthwiseC  (None, 7, 7, 576)   5184        ['block_13_pad[0][0]']           \n",
      " onv2D)                                                                                           \n",
      "                                                                                                  \n",
      " block_13_depthwise_BN (BatchNo  (None, 7, 7, 576)   2304        ['block_13_depthwise[0][0]']     \n",
      " rmalization)                                                                                     \n",
      "                                                                                                  \n",
      " block_13_depthwise_relu (ReLU)  (None, 7, 7, 576)   0           ['block_13_depthwise_BN[0][0]']  \n",
      "                                                                                                  \n",
      " block_13_project (Conv2D)      (None, 7, 7, 160)    92160       ['block_13_depthwise_relu[0][0]']\n",
      "                                                                                                  \n",
      " block_13_project_BN (BatchNorm  (None, 7, 7, 160)   640         ['block_13_project[0][0]']       \n",
      " alization)                                                                                       \n",
      "                                                                                                  \n",
      " block_14_expand (Conv2D)       (None, 7, 7, 960)    153600      ['block_13_project_BN[0][0]']    \n",
      "                                                                                                  \n",
      " block_14_expand_BN (BatchNorma  (None, 7, 7, 960)   3840        ['block_14_expand[0][0]']        \n",
      " lization)                                                                                        \n",
      "                                                                                                  \n",
      " block_14_expand_relu (ReLU)    (None, 7, 7, 960)    0           ['block_14_expand_BN[0][0]']     \n",
      "                                                                                                  \n",
      " block_14_depthwise (DepthwiseC  (None, 7, 7, 960)   8640        ['block_14_expand_relu[0][0]']   \n",
      " onv2D)                                                                                           \n",
      "                                                                                                  \n",
      " block_14_depthwise_BN (BatchNo  (None, 7, 7, 960)   3840        ['block_14_depthwise[0][0]']     \n",
      " rmalization)                                                                                     \n",
      "                                                                                                  \n",
      " block_14_depthwise_relu (ReLU)  (None, 7, 7, 960)   0           ['block_14_depthwise_BN[0][0]']  \n",
      "                                                                                                  \n",
      " block_14_project (Conv2D)      (None, 7, 7, 160)    153600      ['block_14_depthwise_relu[0][0]']\n",
      "                                                                                                  \n",
      " block_14_project_BN (BatchNorm  (None, 7, 7, 160)   640         ['block_14_project[0][0]']       \n",
      " alization)                                                                                       \n",
      "                                                                                                  \n",
      " block_14_add (Add)             (None, 7, 7, 160)    0           ['block_13_project_BN[0][0]',    \n",
      "                                                                  'block_14_project_BN[0][0]']    \n",
      "                                                                                                  \n",
      " block_15_expand (Conv2D)       (None, 7, 7, 960)    153600      ['block_14_add[0][0]']           \n",
      "                                                                                                  \n",
      " block_15_expand_BN (BatchNorma  (None, 7, 7, 960)   3840        ['block_15_expand[0][0]']        \n",
      " lization)                                                                                        \n",
      "                                                                                                  \n",
      " block_15_expand_relu (ReLU)    (None, 7, 7, 960)    0           ['block_15_expand_BN[0][0]']     \n",
      "                                                                                                  \n",
      " block_15_depthwise (DepthwiseC  (None, 7, 7, 960)   8640        ['block_15_expand_relu[0][0]']   \n",
      " onv2D)                                                                                           \n",
      "                                                                                                  \n",
      " block_15_depthwise_BN (BatchNo  (None, 7, 7, 960)   3840        ['block_15_depthwise[0][0]']     \n",
      " rmalization)                                                                                     \n",
      "                                                                                                  \n",
      " block_15_depthwise_relu (ReLU)  (None, 7, 7, 960)   0           ['block_15_depthwise_BN[0][0]']  \n",
      "                                                                                                  \n",
      " block_15_project (Conv2D)      (None, 7, 7, 160)    153600      ['block_15_depthwise_relu[0][0]']\n",
      "                                                                                                  \n",
      " block_15_project_BN (BatchNorm  (None, 7, 7, 160)   640         ['block_15_project[0][0]']       \n",
      " alization)                                                                                       \n",
      "                                                                                                  \n",
      " block_15_add (Add)             (None, 7, 7, 160)    0           ['block_14_add[0][0]',           \n",
      "                                                                  'block_15_project_BN[0][0]']    \n",
      "                                                                                                  \n",
      " block_16_expand (Conv2D)       (None, 7, 7, 960)    153600      ['block_15_add[0][0]']           \n",
      "                                                                                                  \n",
      " block_16_expand_BN (BatchNorma  (None, 7, 7, 960)   3840        ['block_16_expand[0][0]']        \n",
      " lization)                                                                                        \n",
      "                                                                                                  \n",
      " block_16_expand_relu (ReLU)    (None, 7, 7, 960)    0           ['block_16_expand_BN[0][0]']     \n",
      "                                                                                                  \n",
      " block_16_depthwise (DepthwiseC  (None, 7, 7, 960)   8640        ['block_16_expand_relu[0][0]']   \n",
      " onv2D)                                                                                           \n",
      "                                                                                                  \n",
      " block_16_depthwise_BN (BatchNo  (None, 7, 7, 960)   3840        ['block_16_depthwise[0][0]']     \n",
      " rmalization)                                                                                     \n",
      "                                                                                                  \n",
      " block_16_depthwise_relu (ReLU)  (None, 7, 7, 960)   0           ['block_16_depthwise_BN[0][0]']  \n",
      "                                                                                                  \n",
      " block_16_project (Conv2D)      (None, 7, 7, 320)    307200      ['block_16_depthwise_relu[0][0]']\n",
      "                                                                                                  \n",
      " block_16_project_BN (BatchNorm  (None, 7, 7, 320)   1280        ['block_16_project[0][0]']       \n",
      " alization)                                                                                       \n",
      "                                                                                                  \n",
      " Conv_1 (Conv2D)                (None, 7, 7, 1280)   409600      ['block_16_project_BN[0][0]']    \n",
      "                                                                                                  \n",
      " Conv_1_bn (BatchNormalization)  (None, 7, 7, 1280)  5120        ['Conv_1[0][0]']                 \n",
      "                                                                                                  \n",
      " out_relu (ReLU)                (None, 7, 7, 1280)   0           ['Conv_1_bn[0][0]']              \n",
      "                                                                                                  \n",
      " global_average_pooling2d (Glob  (None, 1280)        0           ['out_relu[0][0]']               \n",
      " alAveragePooling2D)                                                                              \n",
      "                                                                                                  \n",
      "==================================================================================================\n",
      "Total params: 2,257,984\n",
      "Trainable params: 2,223,872\n",
      "Non-trainable params: 34,112\n",
      "__________________________________________________________________________________________________\n"
     ]
    }
   ],
   "execution_count": 6
  },
  {
   "metadata": {},
   "cell_type": "markdown",
   "source": "### Broadcast des poids",
   "id": "68424f8e0de5ff22"
  },
  {
   "metadata": {
    "ExecuteTime": {
     "end_time": "2025-02-11T02:06:45.985577Z",
     "start_time": "2025-02-11T02:06:45.929953Z"
    }
   },
   "cell_type": "code",
   "source": "brodcast_weights = sc.broadcast(new_model.get_weights())",
   "id": "f057693a9966d8d7",
   "outputs": [],
   "execution_count": 8
  },
  {
   "metadata": {},
   "cell_type": "markdown",
   "source": "## Préparation du Modèle",
   "id": "9387c6951f95be7d"
  },
  {
   "metadata": {},
   "cell_type": "markdown",
   "source": "### Fonction Model_fn()",
   "id": "fb5b0b4da2414cdb"
  },
  {
   "metadata": {
    "ExecuteTime": {
     "end_time": "2025-02-11T02:06:56.422364Z",
     "start_time": "2025-02-11T02:06:56.408382Z"
    }
   },
   "cell_type": "code",
   "source": [
    "def model_fn() -> Model:\n",
    "    \"\"\"\n",
    "    Returns a MobileNetV2 model with top layer removed\n",
    "    and broadcasted pretrained weights.\n",
    "    \"\"\"\n",
    "    global brodcast_weights\n",
    "\n",
    "    _model = MobileNetV2(weights='imagenet',\n",
    "                        include_top=True,\n",
    "                        input_shape=(224, 224, 3))\n",
    "    for layer in _model.layers:\n",
    "        layer.trainable = False\n",
    "    _new_model = Model(inputs=_model.input,\n",
    "                      outputs=_model.layers[-2].output)\n",
    "    _new_model.set_weights(brodcast_weights.value)\n",
    "    return _new_model"
   ],
   "id": "ebcb0e2aee98744a",
   "outputs": [],
   "execution_count": 10
  },
  {
   "metadata": {},
   "cell_type": "markdown",
   "source": "### Vérification des images",
   "id": "4874a376267f09a5"
  },
  {
   "metadata": {
    "ExecuteTime": {
     "end_time": "2025-02-11T02:49:36.717501Z",
     "start_time": "2025-02-11T02:49:36.626495Z"
    }
   },
   "cell_type": "code",
   "source": [
    "os.listdir(PATH_Data)\n",
    "for (dirpath, dirnames, filenames) in os.walk(PATH_Data):\n",
    "    # print(dirpath, dirnames, filenames)\n",
    "    if len(filenames) > 0:\n",
    "        for filename in filenames:\n",
    "            try:\n",
    "                Image.open(os.path.join(dirpath, filename)).verify()\n",
    "            except Exception:\n",
    "                print(\"Not a Valid Image : \", os.path.join(dirpath, filename))\n",
    "\n",
    "print(\"All good!\")"
   ],
   "id": "29762ba0568110e1",
   "outputs": [
    {
     "name": "stdout",
     "output_type": "stream",
     "text": [
      "All good!\n"
     ]
    }
   ],
   "execution_count": 30
  },
  {
   "metadata": {},
   "cell_type": "markdown",
   "source": "### Fonction preprocess",
   "id": "33b5b435252dfd5b"
  },
  {
   "metadata": {
    "ExecuteTime": {
     "end_time": "2025-02-11T02:07:27.881393Z",
     "start_time": "2025-02-11T02:07:27.866397Z"
    }
   },
   "cell_type": "code",
   "source": [
    "def preprocess_image(row) -> (list, str):\n",
    "    \"\"\"\n",
    "    Preprocesses the image\n",
    "    :param row: Row Spark DataFrame\n",
    "    :return: image array, image path\n",
    "    \"\"\"\n",
    "    image_binary = row.content\n",
    "    # Récupérer le chemin de l'image\n",
    "    image_path = row.path\n",
    "    image = Image.open(io.BytesIO(image_binary))\n",
    "    image = image.resize((224, 224))\n",
    "    # Convertir l'image en tableau numpy\n",
    "    image_array = np.array(image)\n",
    "    # Appliquer le prétraitement\n",
    "    image_array = preprocess_input(image_array)\n",
    "     # Récupérer le dossier et le nom de l'image\n",
    "    # Dossier contenant l'image\n",
    "    image_dir = os.path.dirname(image_path).split(\"/\")[-1]\n",
    "    # Nom de l'image\n",
    "    image_name = os.path.basename(image_path)\n",
    "\n",
    "    return image_array, f\"{image_dir}/{image_name}\"  # Retourner l'image prétraitée et le chemin\n"
   ],
   "id": "f2dda9166211383d",
   "outputs": [],
   "execution_count": 13
  },
  {
   "metadata": {},
   "cell_type": "markdown",
   "source": "### Paramètres",
   "id": "23907d25de671b33"
  },
  {
   "metadata": {
    "ExecuteTime": {
     "end_time": "2025-02-11T02:07:43.171963Z",
     "start_time": "2025-02-11T02:07:43.157965Z"
    }
   },
   "cell_type": "code",
   "source": [
    "# Taille max des images de partition\n",
    "NB_MEGA_PER_PARTITION = 128\n",
    "\n",
    "# Taille de la dimension réduite\n",
    "PCA_NEW_DIMENSION = 128"
   ],
   "id": "2241dfcb85d4f573",
   "outputs": [],
   "execution_count": 15
  },
  {
   "metadata": {},
   "cell_type": "markdown",
   "source": "## Traitement des images",
   "id": "953433dc098ca7e"
  },
  {
   "metadata": {},
   "cell_type": "markdown",
   "source": "### 1. Chargement des images",
   "id": "6ae827ff551f80e5"
  },
  {
   "metadata": {},
   "cell_type": "code",
   "source": [
    "# Étape 1 : Chargement des images\n",
    "images = spark.read \\\n",
    "    .format(\"binaryFile\") \\\n",
    "    .option(\"pathGlobFilter\", \"*.jpg\") \\\n",
    "    .option(\"recursiveFileLookup\", \"true\") \\\n",
    "    .load(PATH_Data)\n"
   ],
   "id": "845abe092ea7951e",
   "outputs": [],
   "execution_count": null
  },
  {
   "metadata": {
    "ExecuteTime": {
     "end_time": "2025-02-11T02:14:46.609476Z",
     "start_time": "2025-02-11T02:14:46.595451Z"
    }
   },
   "cell_type": "code",
   "source": [
    "# Estimer la taille totale des données\n",
    "# total_size = images.count() * images.rdd.map(lambda row: len(row.content)).mean()\n",
    "#\n",
    "# # Calculer le nombre de partitions souhaité\n",
    "# NUM_PARTITIONS = max(1, int(total_size / (NB_MEGA_PER_PARTITION * 1024 * 1024)))\n",
    "\n",
    "NUM_PARTITIONS = 2\n",
    "print('NUM_PARTITIONS: ', NUM_PARTITIONS)"
   ],
   "id": "61d800a162847cc3",
   "outputs": [
    {
     "name": "stdout",
     "output_type": "stream",
     "text": [
      "NUM_PARTITIONS:  2\n"
     ]
    }
   ],
   "execution_count": 29
  },
  {
   "metadata": {},
   "cell_type": "markdown",
   "source": "### 2. Preprocess",
   "id": "7969bd4b7427737c"
  },
  {
   "metadata": {
    "ExecuteTime": {
     "end_time": "2025-02-11T02:09:13.823974Z",
     "start_time": "2025-02-11T02:07:48.257776Z"
    }
   },
   "cell_type": "code",
   "source": [
    "# Étape 2a : Redimensionnement et prétraitement des images\n",
    "preprocessed_images_with_paths = images.rdd.map(preprocess_image).collect()"
   ],
   "id": "11b01e0b882aba03",
   "outputs": [],
   "execution_count": 17
  },
  {
   "metadata": {},
   "cell_type": "markdown",
   "source": "Temps de collecte = 1m 25s",
   "id": "24f4ea5c5f8e5861"
  },
  {
   "metadata": {
    "ExecuteTime": {
     "end_time": "2025-02-11T02:09:25.537884Z",
     "start_time": "2025-02-11T02:09:25.427813Z"
    }
   },
   "cell_type": "code",
   "source": [
    "# Séparation des images prétraitées...\n",
    "preprocessed_images = np.array([item[0] for item in preprocessed_images_with_paths])\n",
    "# ... et des chemins\n",
    "image_paths = [item[1] for item in preprocessed_images_with_paths]"
   ],
   "id": "dac17a96befa4368",
   "outputs": [],
   "execution_count": 18
  },
  {
   "metadata": {},
   "cell_type": "markdown",
   "source": "### 3. Predictions",
   "id": "2adaa634923d126f"
  },
  {
   "metadata": {
    "ExecuteTime": {
     "end_time": "2025-02-11T02:09:39.950828Z",
     "start_time": "2025-02-11T02:09:31.016748Z"
    }
   },
   "cell_type": "code",
   "source": [
    "# Étape 3 : Prédiction du modèle\n",
    "# Récupération du modèle\n",
    "model = model_fn()\n",
    "predictions = model.predict(np.array(preprocessed_images))"
   ],
   "id": "3b1450fe11ed714c",
   "outputs": [
    {
     "name": "stdout",
     "output_type": "stream",
     "text": [
      "26/26 [==============================] - 8s 292ms/step\n"
     ]
    }
   ],
   "execution_count": 19
  },
  {
   "metadata": {},
   "cell_type": "markdown",
   "source": "### 4. Réduction des dimensions",
   "id": "948bd9be94486170"
  },
  {
   "metadata": {
    "ExecuteTime": {
     "end_time": "2025-02-11T02:09:45.404473Z",
     "start_time": "2025-02-11T02:09:45.311307Z"
    }
   },
   "cell_type": "code",
   "source": [
    "# Étape 4 : Réduction des dimensions avec PCA\n",
    "pca = PCA(n_components=PCA_NEW_DIMENSION)\n",
    "reduced_features = pca.fit_transform(predictions)"
   ],
   "id": "515330f9e2119d9d",
   "outputs": [],
   "execution_count": 20
  },
  {
   "metadata": {},
   "cell_type": "markdown",
   "source": "### 5. Création du DataFrame Spark",
   "id": "84728f6174141e68"
  },
  {
   "metadata": {
    "ExecuteTime": {
     "end_time": "2025-02-11T02:10:03.256872Z",
     "start_time": "2025-02-11T02:10:03.150874Z"
    }
   },
   "cell_type": "code",
   "source": [
    "# Créer un DataFrame avec le chemin de l'image et les caractéristiques sous forme de tableau\n",
    "features_df = spark.createDataFrame(\n",
    "    [(image_paths[i], reduced_features[i].tolist()) for i in range(len(image_paths))],\n",
    "    schema=StructType([\n",
    "        StructField(\"image_path\", StringType()),\n",
    "        StructField(\"features\", ArrayType(FloatType()))  # Utiliser ArrayType pour les features\n",
    "    ])\n",
    ")\n",
    "# Repartitionner le DataFrame\n",
    "df_spark = features_df.repartition(NUM_PARTITIONS)"
   ],
   "id": "4883a952d5b27e01",
   "outputs": [],
   "execution_count": 21
  },
  {
   "metadata": {},
   "cell_type": "markdown",
   "source": "### 6. Visualisation",
   "id": "5c5add65ba3c9ae7"
  },
  {
   "metadata": {
    "ExecuteTime": {
     "end_time": "2025-02-11T02:10:07.195405Z",
     "start_time": "2025-02-11T02:10:05.514360Z"
    }
   },
   "cell_type": "code",
   "source": [
    "# Étape 6 : Visualisation du DataFrame\n",
    "df_spark.show(3, truncate=False)"
   ],
   "id": "24a419a3c58a76cb",
   "outputs": [
    {
     "name": "stdout",
     "output_type": "stream",
     "text": [
      "+---------------------------+----------------------------------------------------------------------------------------------------------------------------------------------------------------------------------------------------------------------------------------------------------------------------------------------------------------------------------------------------------------------------------------------------------------------------------------------------------------------------------------------------------------------------------------------------------------------------------------------------------------------------------------------------------------------------------------------------------------------------------------------------------------------------------------------------------------------------------------------------------------------------------------------------------------------------------------------------------------------------------------------------------------------------------------------------------------------------------------------------------------------------------------------------------------------------------------------------------------------------------------------------------------------------------------------------------------------------------------------------------------------------------------------------------------------------------------------------------------------------------------------------------------------------------------------------------------------------------------------------------------------------------------+\n",
      "|image_path                 |features                                                                                                                                                                                                                                                                                                                                                                                                                                                                                                                                                                                                                                                                                                                                                                                                                                                                                                                                                                                                                                                                                                                                                                                                                                                                                                                                                                                                                                                                                                                                                                                                                                |\n",
      "+---------------------------+----------------------------------------------------------------------------------------------------------------------------------------------------------------------------------------------------------------------------------------------------------------------------------------------------------------------------------------------------------------------------------------------------------------------------------------------------------------------------------------------------------------------------------------------------------------------------------------------------------------------------------------------------------------------------------------------------------------------------------------------------------------------------------------------------------------------------------------------------------------------------------------------------------------------------------------------------------------------------------------------------------------------------------------------------------------------------------------------------------------------------------------------------------------------------------------------------------------------------------------------------------------------------------------------------------------------------------------------------------------------------------------------------------------------------------------------------------------------------------------------------------------------------------------------------------------------------------------------------------------------------------------+\n",
      "|Apple Braeburn/r_73_100.jpg|[10.874676, 0.21191794, 2.7552166, 4.7443943, 1.7821693, -0.96197826, -1.7635736, 0.21124895, -3.1015365, -2.7695124, -0.32937634, -1.1987163, 1.3143181, 0.49403253, 0.83044326, 0.96640825, -0.8456097, 0.44117808, -1.2452269, -1.336978, -1.6432902, -1.209762, -0.19231708, 0.42607883, -1.1352223, -0.76213205, 0.4041824, 0.13992746, 0.2750351, -1.701864, -0.66449404, 0.2994276, -0.5141834, -0.14668767, -0.55405813, 0.01862538, -0.014053543, -0.97751766, 0.4918471, 0.4185676, 0.053762063, 0.8539991, -1.2951765, -0.14098713, 0.8982138, 0.49169442, 0.24796344, 0.25871682, -0.056537483, 0.58682877, -0.16914858, -0.90254146, 0.020042434, 0.04645678, -0.46094525, 0.56992245, 0.08259116, -0.17422652, -0.051528726, -0.2135588, -0.039130643, -0.16243039, -0.7896445, -0.54451895, 0.1498728, -0.25486434, 0.12331953, 0.43163007, -0.09108711, -0.36155418, -0.16382259, -0.47422615, -0.5228669, 0.15287288, 0.06742864, 0.21436703, 0.008132269, 0.20383945, 0.2503774, 0.07501666, -0.37544918, -0.19585948, 0.37475872, 0.15052658, 0.071634255, -0.5149368, -0.4508838, -0.6022565, 0.360512, -0.1455211, 0.38459632, 0.13576216, 0.044115506, -0.18085489, -0.06316177, 0.15840839, -0.17151222, -0.3075198, -0.34156197, -0.41228685, -0.37800676, -0.13593736, -0.2866309, -0.12759389, -0.36896232, 0.4815998, 0.09503571, 0.32931465, 0.04511091, -0.14215484, -0.319057, -0.25633937, -0.044527, -0.13450843, -0.11171827, 0.1303849, -0.1615642, 0.3119516, 0.019334426, 0.15131332, 0.19821656, 0.08496335, 0.049391955, -0.005007793, -0.059083764, -0.23400487, -0.34722, -0.20703551]          |\n",
      "|apple_braeburn_1/r0_299.jpg|[15.350532, -1.2815833, -1.4976716, -4.29906, -3.2369916, 1.601367, 1.530456, 0.78680044, -1.0994217, -2.2636828, -0.7625472, 1.1099476, -0.10028879, -0.17336029, -0.2017752, 0.46113884, 0.63629186, -1.832241, 2.2279334, 0.67194873, 0.9563879, 0.29717568, 0.64474124, 1.237645, 0.8051451, -0.27907008, -2.0963411, 0.3996334, -0.08183973, -0.27003786, -0.9979324, -0.35253572, -0.20732014, -0.83591866, -1.1354845, 0.9401418, -0.40208432, -0.5988679, 0.16542675, -0.056971814, 0.64332414, -0.2485318, -0.11499633, -0.5032136, -0.3598, -0.026717937, -0.9254103, 0.8419471, 0.31629336, -0.6679268, -0.14789207, 0.33728305, -0.6196474, 0.07083896, -0.04263277, -0.55575454, -0.21603125, 0.024173385, -0.19028479, -0.043795705, 0.18358012, 0.7097968, 0.17492601, 0.17333044, -0.095510975, -0.48948744, 1.3565538, 0.39787528, 0.30559814, 1.022774, 1.4022533, -0.09978967, 0.020793863, 0.26907644, -0.3261265, 0.3739942, -0.91427493, 0.22455686, -0.046290006, 0.33909377, 0.1636349, 0.022379903, 0.20214143, 0.14095765, -0.102108024, 0.22020796, -0.26700783, -0.63797164, -0.2959959, 0.21553582, 0.32261264, 0.12710106, 0.045915633, -0.4921747, 0.37216383, 0.236706, 0.102676615, -0.3939336, -0.27823082, -0.28834963, -0.24067669, 0.30927205, -0.19948319, 0.15312764, 0.014411466, -0.09385026, 0.30999935, -0.25831833, -0.005018999, 0.13277055, 0.25324464, 0.2227796, 0.36940098, -0.28333992, 0.06973371, 0.120268576, 0.19023336, -0.27069032, 0.25382346, 0.03745954, -0.16170387, -0.013382105, -0.036766805, 0.73751765, 0.16976142, 0.20172752, 0.4383679, -0.09106712]                |\n",
      "|Apple Braeburn/r_59_100.jpg|[11.281214, -0.41652662, 3.4917502, 5.412005, 2.515054, -1.1799371, 1.0249095, -0.15667054, -3.633019, -2.8743353, -0.79903245, 1.2526132, -0.358722, -0.74396515, 0.122648686, 0.77157825, 0.072307914, -0.8747302, 0.46341342, -1.611085, 0.14860685, -1.7518008, 0.58248204, -0.576073, 0.5140053, 0.85166335, -1.1154994, 0.39034888, 1.1116982, 0.018091401, -0.35044792, -1.7423011, -0.040946413, -1.691904, 0.06254496, -0.81787395, 0.1586554, 1.4061719, 0.09241402, -0.4175403, -0.0891287, -0.44171894, 1.1801875, -0.53112596, -0.6220801, -0.55567116, -0.16730581, 0.0721806, -0.5522814, -0.221281, 0.5725492, 0.34033656, -0.09750554, -0.8400078, 0.4233282, -0.40482444, 0.25982353, -0.5352519, 0.18344705, 0.2705659, -0.19061516, 0.6635005, 0.25591174, 0.1167241, -0.073026456, 0.12696216, -0.20776193, -0.65798163, -0.03454696, -0.10477513, 0.23624495, -0.36463156, 0.4774611, -0.14154932, -0.3330182, -0.05720696, -0.33273974, 0.15556577, 0.16574492, -0.04814237, 0.13323352, 0.41304532, 0.22322343, -0.042666137, -0.038433135, -0.23969209, 0.68761504, 0.21276031, 0.088253774, -0.011746298, -0.29111913, -0.22166187, -0.14202939, -0.3096417, 0.14612488, -0.24111857, 0.0682442, 0.11834006, 0.19707508, -0.16354229, -0.28834632, 0.057607707, -0.09166377, -0.26033455, 0.21967913, 0.028986454, -0.041179664, -0.12400186, 0.11716969, 0.012403912, -0.083442025, -0.2417449, -0.16818134, 0.12141713, 0.09653512, 0.18396309, -0.06089395, -0.24972416, -0.014907949, 0.013323573, -0.053236265, 0.1584454, -0.009201735, -0.19787851, -0.12529388, -0.09317184, -0.03627173, 0.047690954]|\n",
      "+---------------------------+----------------------------------------------------------------------------------------------------------------------------------------------------------------------------------------------------------------------------------------------------------------------------------------------------------------------------------------------------------------------------------------------------------------------------------------------------------------------------------------------------------------------------------------------------------------------------------------------------------------------------------------------------------------------------------------------------------------------------------------------------------------------------------------------------------------------------------------------------------------------------------------------------------------------------------------------------------------------------------------------------------------------------------------------------------------------------------------------------------------------------------------------------------------------------------------------------------------------------------------------------------------------------------------------------------------------------------------------------------------------------------------------------------------------------------------------------------------------------------------------------------------------------------------------------------------------------------------------------------------------------------------+\n",
      "only showing top 3 rows\n",
      "\n"
     ]
    }
   ],
   "execution_count": 22
  },
  {
   "metadata": {},
   "cell_type": "markdown",
   "source": "### 7. Sauvegarde",
   "id": "8ba4d10baec0e5d5"
  },
  {
   "metadata": {
    "ExecuteTime": {
     "end_time": "2025-02-11T02:10:12.970235Z",
     "start_time": "2025-02-11T02:10:11.639040Z"
    }
   },
   "cell_type": "code",
   "source": [
    "# Étape 7 : Sauvegarde des parquets\n",
    "t0 = time.perf_counter()\n",
    "df_spark.write.mode(\"overwrite\").parquet(PATH_Result)\n",
    "t1 = time.perf_counter()\n",
    "print(\"total time: \", t1 - t0)"
   ],
   "id": "a2ed0fc5db1c710e",
   "outputs": [
    {
     "name": "stdout",
     "output_type": "stream",
     "text": [
      "total time:  1.3113184999674559\n"
     ]
    }
   ],
   "execution_count": 23
  },
  {
   "metadata": {
    "ExecuteTime": {
     "end_time": "2025-02-11T02:10:14.077044Z",
     "start_time": "2025-02-11T02:10:14.032039Z"
    }
   },
   "cell_type": "code",
   "source": "df_pandas = pd.read_parquet(PATH_Result, engine='pyarrow')",
   "id": "2abaff017f12b49f",
   "outputs": [],
   "execution_count": 24
  },
  {
   "metadata": {
    "ExecuteTime": {
     "end_time": "2025-02-11T02:10:15.895796Z",
     "start_time": "2025-02-11T02:10:15.406573Z"
    }
   },
   "cell_type": "code",
   "source": "df_pandas.describe()",
   "id": "29e003e493970853",
   "outputs": [
    {
     "data": {
      "text/plain": [
       "                         image_path  \\\n",
       "count                           814   \n",
       "unique                          814   \n",
       "top     Apple Braeburn/r_73_100.jpg   \n",
       "freq                              1   \n",
       "\n",
       "                                                 features  \n",
       "count                                                 814  \n",
       "unique                                                814  \n",
       "top     [10.874676, 0.21191794, 2.7552166, 4.7443943, ...  \n",
       "freq                                                    1  "
      ],
      "text/html": [
       "<div>\n",
       "<style scoped>\n",
       "    .dataframe tbody tr th:only-of-type {\n",
       "        vertical-align: middle;\n",
       "    }\n",
       "\n",
       "    .dataframe tbody tr th {\n",
       "        vertical-align: top;\n",
       "    }\n",
       "\n",
       "    .dataframe thead th {\n",
       "        text-align: right;\n",
       "    }\n",
       "</style>\n",
       "<table border=\"1\" class=\"dataframe\">\n",
       "  <thead>\n",
       "    <tr style=\"text-align: right;\">\n",
       "      <th></th>\n",
       "      <th>image_path</th>\n",
       "      <th>features</th>\n",
       "    </tr>\n",
       "  </thead>\n",
       "  <tbody>\n",
       "    <tr>\n",
       "      <th>count</th>\n",
       "      <td>814</td>\n",
       "      <td>814</td>\n",
       "    </tr>\n",
       "    <tr>\n",
       "      <th>unique</th>\n",
       "      <td>814</td>\n",
       "      <td>814</td>\n",
       "    </tr>\n",
       "    <tr>\n",
       "      <th>top</th>\n",
       "      <td>Apple Braeburn/r_73_100.jpg</td>\n",
       "      <td>[10.874676, 0.21191794, 2.7552166, 4.7443943, ...</td>\n",
       "    </tr>\n",
       "    <tr>\n",
       "      <th>freq</th>\n",
       "      <td>1</td>\n",
       "      <td>1</td>\n",
       "    </tr>\n",
       "  </tbody>\n",
       "</table>\n",
       "</div>"
      ]
     },
     "execution_count": 25,
     "metadata": {},
     "output_type": "execute_result"
    }
   ],
   "execution_count": 25
  },
  {
   "metadata": {
    "ExecuteTime": {
     "end_time": "2025-02-11T02:10:19.366823Z",
     "start_time": "2025-02-11T02:10:19.353736Z"
    }
   },
   "cell_type": "code",
   "source": "df_pandas.loc[0,'features'].shape",
   "id": "ae5d98b069725215",
   "outputs": [
    {
     "data": {
      "text/plain": [
       "(128,)"
      ]
     },
     "execution_count": 26,
     "metadata": {},
     "output_type": "execute_result"
    }
   ],
   "execution_count": 26
  },
  {
   "metadata": {
    "ExecuteTime": {
     "end_time": "2025-02-11T02:10:21.767696Z",
     "start_time": "2025-02-11T02:10:21.753698Z"
    }
   },
   "cell_type": "code",
   "source": "df_pandas.head()",
   "id": "4bcf5e68cef3723",
   "outputs": [
    {
     "data": {
      "text/plain": [
       "                    image_path  \\\n",
       "0  Apple Braeburn/r_73_100.jpg   \n",
       "1  apple_braeburn_1/r0_299.jpg   \n",
       "2  Apple Braeburn/r_59_100.jpg   \n",
       "3        Carambula/264_100.jpg   \n",
       "4      Carambula/r_302_100.jpg   \n",
       "\n",
       "                                            features  \n",
       "0  [10.874676, 0.21191794, 2.7552166, 4.7443943, ...  \n",
       "1  [15.350532, -1.2815833, -1.4976716, -4.29906, ...  \n",
       "2  [11.281214, -0.41652662, 3.4917502, 5.412005, ...  \n",
       "3  [-8.8863535, -6.7135005, -1.7254672, 1.8977714...  \n",
       "4  [-8.680854, 9.945538, 3.6776936, 0.2960881, 1....  "
      ],
      "text/html": [
       "<div>\n",
       "<style scoped>\n",
       "    .dataframe tbody tr th:only-of-type {\n",
       "        vertical-align: middle;\n",
       "    }\n",
       "\n",
       "    .dataframe tbody tr th {\n",
       "        vertical-align: top;\n",
       "    }\n",
       "\n",
       "    .dataframe thead th {\n",
       "        text-align: right;\n",
       "    }\n",
       "</style>\n",
       "<table border=\"1\" class=\"dataframe\">\n",
       "  <thead>\n",
       "    <tr style=\"text-align: right;\">\n",
       "      <th></th>\n",
       "      <th>image_path</th>\n",
       "      <th>features</th>\n",
       "    </tr>\n",
       "  </thead>\n",
       "  <tbody>\n",
       "    <tr>\n",
       "      <th>0</th>\n",
       "      <td>Apple Braeburn/r_73_100.jpg</td>\n",
       "      <td>[10.874676, 0.21191794, 2.7552166, 4.7443943, ...</td>\n",
       "    </tr>\n",
       "    <tr>\n",
       "      <th>1</th>\n",
       "      <td>apple_braeburn_1/r0_299.jpg</td>\n",
       "      <td>[15.350532, -1.2815833, -1.4976716, -4.29906, ...</td>\n",
       "    </tr>\n",
       "    <tr>\n",
       "      <th>2</th>\n",
       "      <td>Apple Braeburn/r_59_100.jpg</td>\n",
       "      <td>[11.281214, -0.41652662, 3.4917502, 5.412005, ...</td>\n",
       "    </tr>\n",
       "    <tr>\n",
       "      <th>3</th>\n",
       "      <td>Carambula/264_100.jpg</td>\n",
       "      <td>[-8.8863535, -6.7135005, -1.7254672, 1.8977714...</td>\n",
       "    </tr>\n",
       "    <tr>\n",
       "      <th>4</th>\n",
       "      <td>Carambula/r_302_100.jpg</td>\n",
       "      <td>[-8.680854, 9.945538, 3.6776936, 0.2960881, 1....</td>\n",
       "    </tr>\n",
       "  </tbody>\n",
       "</table>\n",
       "</div>"
      ]
     },
     "execution_count": 27,
     "metadata": {},
     "output_type": "execute_result"
    }
   ],
   "execution_count": 27
  },
  {
   "metadata": {
    "ExecuteTime": {
     "end_time": "2025-02-11T02:10:28.505834Z",
     "start_time": "2025-02-11T02:10:28.493837Z"
    }
   },
   "cell_type": "code",
   "source": "# FIN",
   "id": "c6c083053fd77b9e",
   "outputs": [],
   "execution_count": 28
  }
 ],
 "metadata": {
  "kernelspec": {
   "display_name": "Python 3",
   "language": "python",
   "name": "python3"
  },
  "language_info": {
   "codemirror_mode": {
    "name": "ipython",
    "version": 2
   },
   "file_extension": ".py",
   "mimetype": "text/x-python",
   "name": "python",
   "nbconvert_exporter": "python",
   "pygments_lexer": "ipython2",
   "version": "2.7.6"
  }
 },
 "nbformat": 4,
 "nbformat_minor": 5
}
